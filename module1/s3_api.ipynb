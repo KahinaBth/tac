{
 "cells": [
  {
   "cell_type": "markdown",
   "metadata": {},
   "source": [
    "# APIs: requêtes HTTP"
   ]
  },
  {
   "cell_type": "markdown",
   "metadata": {},
   "source": [
    "## Imports"
   ]
  },
  {
   "cell_type": "code",
   "execution_count": 1,
   "metadata": {},
   "outputs": [],
   "source": [
    "import json\n",
    "import requests"
   ]
  },
  {
   "cell_type": "markdown",
   "metadata": {},
   "source": [
    "## API Webit Text Analytics pour analyse de sentiments\n",
    "Exemple d'un article du soir, et avec modification (crash devient fête)"
   ]
  },
  {
   "cell_type": "code",
   "execution_count": 10,
   "metadata": {},
   "outputs": [
    {
     "name": "stdout",
     "output_type": "stream",
     "text": [
      "{\"status\":\"success\",\"data\":{\"input_text\":\"Une famille belge de cinq personnes impliqu\\u00e9e dans une f\\u00eate en Autriche\",\"sentiment\":{\"positive\":0.73195880651474,\"negative\":0.2680411636829376}},\"message\":null}\n"
     ]
    }
   ],
   "source": [
    "url = \"https://webit-text-analytics.p.rapidapi.com/sentiment\"\n",
    "\n",
    "querystring = {\"text\":\"Une famille belge de cinq personnes impliquée dans un «crash de l’horreur» en Autriche\",\"language\":\"fr\"}\n",
    "\n",
    "payload = {\n",
    "\t\"key1\": \"value\",\n",
    "\t\"key2\": \"value\"\n",
    "}\n",
    "headers = {\n",
    "\t\"content-type\": \"application/json\",\n",
    "\t\"X-RapidAPI-Key\": \"89c3bb8ecfmshc134e1052bdf0cdp12b78bjsnda801d667d85\",\n",
    "\t\"X-RapidAPI-Host\": \"webit-text-analytics.p.rapidapi.com\"\n",
    "}\n",
    "\n",
    "response = requests.request(\"POST\", url, json=payload, headers=headers, params=querystring)\n",
    "\n",
    "print(response.text)\n"
   ]
  },
  {
   "cell_type": "code",
   "execution_count": 11,
   "metadata": {},
   "outputs": [
    {
     "name": "stdout",
     "output_type": "stream",
     "text": [
      "{\"status\":\"success\",\"data\":{\"input_text\":\"Une famille belge de cinq personnes impliqu\\u00e9e dans une f\\u00eate en Autriche\",\"sentiment\":{\"positive\":0.73195880651474,\"negative\":0.2680411636829376}},\"message\":null}\n"
     ]
    }
   ],
   "source": [
    "querystring = {\"text\":\"Une famille belge de cinq personnes impliquée dans une fête en Autriche\",\"language\":\"fr\"}\n",
    "response = requests.request(\"POST\", url, json=payload, headers=headers, params=querystring)\n",
    "\n",
    "print(response.text)\n"
   ]
  }
 ],
 "metadata": {
  "kernelspec": {
   "display_name": "tac_venv",
   "language": "python",
   "name": "tac_venv"
  },
  "language_info": {
   "codemirror_mode": {
    "name": "ipython",
    "version": 3
   },
   "file_extension": ".py",
   "mimetype": "text/x-python",
   "name": "python",
   "nbconvert_exporter": "python",
   "pygments_lexer": "ipython3",
   "version": "3.8.5"
  },
  "vscode": {
   "interpreter": {
    "hash": "b1932ab1d169b4769d1550e799423b6477588e745f266d79d9004c136c81607e"
   }
  }
 },
 "nbformat": 4,
 "nbformat_minor": 4
}
