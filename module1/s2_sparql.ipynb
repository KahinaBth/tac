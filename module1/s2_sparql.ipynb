{
 "cells": [
  {
   "cell_type": "markdown",
   "metadata": {},
   "source": [
    "# Bases de connaissance : interroger Wikidata à l'aide de requêtes SPARQL"
   ]
  },
  {
   "cell_type": "markdown",
   "metadata": {},
   "source": [
    "## Imports"
   ]
  },
  {
   "cell_type": "code",
   "execution_count": 1,
   "metadata": {},
   "outputs": [],
   "source": [
    "from datetime import datetime as dt\n",
    "from SPARQLWrapper import SPARQLWrapper, JSON"
   ]
  },
  {
   "cell_type": "markdown",
   "metadata": {},
   "source": [
    "## Obtenir la liste des femmes activistes sociales belges"
   ]
  },
  {
   "cell_type": "code",
   "execution_count": 2,
   "metadata": {},
   "outputs": [
    {
     "name": "stdout",
     "output_type": "stream",
     "text": [
      "\n",
      "87 Women Activists found\n",
      "\n",
      "[{'person': {'type': 'uri', 'value': 'http://www.wikidata.org/entity/Q236173'}, 'personLabel': {'xml:lang': 'en', 'type': 'literal', 'value': 'Chantal Mouffe'}}, {'person': {'type': 'uri', 'value': 'http://www.wikidata.org/entity/Q275821'}, 'personLabel': {'xml:lang': 'en', 'type': 'literal', 'value': 'Marie Janson'}}, {'person': {'type': 'uri', 'value': 'http://www.wikidata.org/entity/Q520204'}, 'personLabel': {'xml:lang': 'en', 'type': 'literal', 'value': 'Irène Pétry'}}, {'person': {'type': 'uri', 'value': 'http://www.wikidata.org/entity/Q2436796'}, 'personLabel': {'xml:lang': 'en', 'type': 'literal', 'value': 'Françoise Collin'}}, {'person': {'type': 'uri', 'value': 'http://www.wikidata.org/entity/Q67775831'}, 'personLabel': {'xml:lang': 'en', 'type': 'literal', 'value': 'Lisette Lombé'}}, {'person': {'type': 'uri', 'value': 'http://www.wikidata.org/entity/Q2836613'}, 'personLabel': {'xml:lang': 'en', 'type': 'literal', 'value': 'Alice Melin'}}, {'person': {'type': 'uri', 'value': 'http://www.wikidata.org/entity/Q3132460'}, 'personLabel': {'xml:lang': 'en', 'type': 'literal', 'value': 'Henriette Dachsbeck'}}, {'person': {'type': 'uri', 'value': 'http://www.wikidata.org/entity/Q87338327'}, 'personLabel': {'xml:lang': 'en', 'type': 'literal', 'value': 'Berthe Labille'}}, {'person': {'type': 'uri', 'value': 'http://www.wikidata.org/entity/Q87579214'}, 'personLabel': {'xml:lang': 'en', 'type': 'literal', 'value': 'Sylvie Lauberg'}}, {'person': {'type': 'uri', 'value': 'http://www.wikidata.org/entity/Q4975099'}, 'personLabel': {'xml:lang': 'en', 'type': 'literal', 'value': 'Ingrid Robeyns'}}]\n"
     ]
    }
   ],
   "source": [
    "# Done using https://query.wikidata.org/querybuilder\n",
    "\n",
    "# Retrieve results from SPARQL\n",
    "endpoint = \"https://query.wikidata.org/bigdata/namespace/wdq/sparql\"\n",
    "sparql = SPARQLWrapper(endpoint)\n",
    "\n",
    "\n",
    "# P91: Sexual Orientation\n",
    "# P106: Occupation\n",
    "# Q6636: Homosexuality\n",
    "# Q82955: Politician\n",
    "statement = \"\"\"\n",
    "SELECT DISTINCT ?person ?personLabel WHERE {\n",
    "      ?person wdt:P106 wd:Q28692502 .\n",
    "      ?person wdt:P21 wd:Q6581072 .\n",
    "      ?person wdt:P27 wd:Q31 .\n",
    "  SERVICE wikibase:label { bd:serviceParam wikibase:language \"en\". }\n",
    "\n",
    "}\n",
    "\"\"\"\n",
    "sparql.setQuery(statement)\n",
    "sparql.setReturnFormat(JSON)\n",
    "results = sparql.query().convert()\n",
    "\n",
    "rows = results['results']['bindings']\n",
    "print(f\"\\n{len(rows)} Women Activists found\\n\")\n",
    "print(rows[:10])"
   ]
  },
  {
   "cell_type": "code",
   "execution_count": 3,
   "metadata": {},
   "outputs": [
    {
     "name": "stdout",
     "output_type": "stream",
     "text": [
      "Chantal Mouffe\n",
      "Marie Janson\n",
      "Irène Pétry\n",
      "Françoise Collin\n",
      "Lisette Lombé\n",
      "Alice Melin\n",
      "Henriette Dachsbeck\n",
      "Berthe Labille\n",
      "Sylvie Lauberg\n",
      "Ingrid Robeyns\n",
      "Monika van Paemel\n",
      "Léonie La Fontaine\n",
      "Émilienne Brunfaut\n",
      "Jennie Vanlerberghe\n",
      "Céline Renooz\n",
      "Léonie Keingiaert de Gheluvelt\n",
      "Isala Van Diest\n",
      "Emilie Claeys\n",
      "Georgette Ciselet\n",
      "Maria Baers\n",
      "Nelly Cormeau\n",
      "Juliette Borboux\n",
      "Fernande Coulon\n",
      "Hafida Bachir\n",
      "Louise Mayart\n",
      "Marguerite Legot\n",
      "Suzanne Lippens-Orban\n",
      "Marie Popelin\n",
      "Lily Boeykens\n",
      "Aimée Bologne-Lemaire\n",
      "Marguerite Coppin\n",
      "Isabelle Blume\n",
      "Rita Lejeune\n",
      "Yvonne George\n",
      "Jane Brigode\n",
      "Mireille Cottenjé\n",
      "Victoire Cappe\n",
      "Emma Leclercq\n",
      "Rosine Lewin\n",
      "Jeanne Beeckman\n",
      "Marie Delcourt\n",
      "Caroline Boussart\n",
      "Hilda Ram\n",
      "Jeanne Driessen\n",
      "Louise van den Plas\n",
      "Léonie de Waha\n",
      "Elizabeth Sneyers\n",
      "Ida Dequeecker\n",
      "Margriet Baers\n",
      "Fauzaya Talhaoui\n",
      "Fadila Maaroufi\n",
      "Dominique Rolin\n",
      "Marie-Elisabeth Belpaire\n",
      "Helima Guerra\n",
      "Lise Thiry\n",
      "Nicole Malinconi\n",
      "Zakia Khattabi\n",
      "Zoé de Gamond\n",
      "Claire Duysburgh\n",
      "Charlotte Hauglustaine\n",
      "Suzanne Tassier\n",
      "Roza de Guchtenaere\n",
      "Marijke van Hemeldonck\n",
      "Isabelle Gatti de Gamond\n",
      "Nadia Geerts\n",
      "Simone Susskind\n",
      "Cecile Rapol\n",
      "Lieve Denys\n",
      "Sonja Eggerickx\n",
      "Céline Dangotte\n",
      "Monique Van Tichelen\n",
      "Augustine De Rothmaler\n",
      "Béa Ercolini\n",
      "Jeanne Vercheval-Vervoort\n",
      "Luce Irigaray\n",
      "Lydie Neufcourt\n",
      "Marie-Thérèse Cuvelliez\n",
      "Marie Mineur\n",
      "Anne-Marie Storrer\n",
      "Hedwige Peemans-Poullet\n",
      "Éliane Vogel-Polsky\n",
      "Emma Vorlat\n",
      "Adèle Hauwel\n",
      "Louise Popelin\n",
      "Marguerite Delchef\n",
      "Lilly-Élisabeth Carter\n",
      "Jeanne Kesseler\n"
     ]
    }
   ],
   "source": [
    "for row in rows:\n",
    "    print(row['personLabel']['value'])"
   ]
  },
  {
   "cell_type": "code",
   "execution_count": null,
   "metadata": {},
   "outputs": [],
   "source": []
  }
 ],
 "metadata": {
  "kernelspec": {
   "display_name": "tac_venv",
   "language": "python",
   "name": "tac_venv"
  },
  "language_info": {
   "codemirror_mode": {
    "name": "ipython",
    "version": 3
   },
   "file_extension": ".py",
   "mimetype": "text/x-python",
   "name": "python",
   "nbconvert_exporter": "python",
   "pygments_lexer": "ipython3",
   "version": "3.8.5"
  },
  "vscode": {
   "interpreter": {
    "hash": "a942b0119f0c2604d4302f32a2a6e790f63eb4c9b0c297be7a26bd56fa8e02c6"
   }
  }
 },
 "nbformat": 4,
 "nbformat_minor": 4
}
